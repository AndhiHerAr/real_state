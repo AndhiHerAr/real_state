{
 "cells": [
  {
   "cell_type": "code",
   "execution_count": null,
   "metadata": {},
   "outputs": [],
   "source": []
  },
  {
   "cell_type": "markdown",
   "metadata": {},
   "source": [
    "## Pregunta 1"
   ]
  },
  {
   "cell_type": "markdown",
   "metadata": {},
   "source": [
    "##### El archivo reto_precios.csv contiene información sobre precios de departamentos nuevos dentro de la CDMX, junto con diversas características del inmueble. Para esta pregunta, requerimos que nos puedas explicar los factores que influyen en el precio por metro cuadrado de cada vivienda (Hint: Existe información externa que te podría ser útil para resolver esta pregunta).\n"
   ]
  }
 ],
 "metadata": {
  "language_info": {
   "name": "python"
  },
  "orig_nbformat": 4
 },
 "nbformat": 4,
 "nbformat_minor": 2
}
